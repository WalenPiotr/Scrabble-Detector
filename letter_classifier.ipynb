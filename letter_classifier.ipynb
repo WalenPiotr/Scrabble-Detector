{
 "cells": [
  {
   "cell_type": "code",
   "execution_count": 11,
   "metadata": {},
   "outputs": [],
   "source": [
    "from keras.models import Sequential\n",
    "from keras.layers import Convolution2D\n",
    "from keras.layers import MaxPooling2D\n",
    "from keras.layers import Flatten\n",
    "from keras.layers import Dense\n",
    "from keras.layers import Dropout"
   ]
  },
  {
   "cell_type": "code",
   "execution_count": 18,
   "metadata": {},
   "outputs": [],
   "source": [
    "classifier = Sequential()\n",
    "\n",
    "classifier.add(Convolution2D(32, (3, 3), input_shape = (64, 64, 3), activation = 'relu'))\n",
    "classifier.add(Convolution2D(32, (3, 3), input_shape = (64, 64, 3), activation = 'relu'))\n",
    "classifier.add(MaxPooling2D(pool_size = (2, 2)))\n",
    "classifier.add(Convolution2D(32, (3, 3), input_shape = (64, 64, 3), activation = 'relu'))\n",
    "classifier.add(Convolution2D(32, (3, 3), input_shape = (64, 64, 3), activation = 'relu'))\n",
    "classifier.add(MaxPooling2D(pool_size = (2, 2)))\n",
    "classifier.add(Convolution2D(32, (3, 3), input_shape = (64, 64, 3), activation = 'relu'))\n",
    "classifier.add(Convolution2D(32, (3, 3), input_shape = (64, 64, 3), activation = 'relu'))\n",
    "classifier.add(MaxPooling2D(pool_size = (2, 2)))\n",
    "classifier.add(Flatten())\n",
    "classifier.add(Dense(units = 128, activation = 'relu'))\n",
    "classifier.add(Dense(units = 33, activation = 'softmax'))\n",
    "\n",
    "classifier.compile(\n",
    "    optimizer = 'adam',\n",
    "    loss = 'categorical_crossentropy',\n",
    "    metrics = ['accuracy']\n",
    ")"
   ]
  },
  {
   "cell_type": "code",
   "execution_count": 19,
   "metadata": {},
   "outputs": [
    {
     "name": "stdout",
     "output_type": "stream",
     "text": [
      "Found 812 images belonging to 33 classes.\n"
     ]
    }
   ],
   "source": [
    "from keras.preprocessing.image import ImageDataGenerator\n",
    "from sklearn.model_selection import train_test_split\n",
    "datagen = ImageDataGenerator(rescale=1. / 255)\n",
    "itr =  datagen.flow_from_directory(\n",
    "            './data_set_letter',\n",
    "            target_size=(64,64),\n",
    "            batch_size=812,\n",
    "            class_mode='categorical')\n",
    "X, y = itr.next()\n",
    "X_train,X_test,y_train,y_test = train_test_split(X,y,test_size=0.2,random_state=7)"
   ]
  },
  {
   "cell_type": "code",
   "execution_count": 21,
   "metadata": {},
   "outputs": [
    {
     "name": "stdout",
     "output_type": "stream",
     "text": [
      "Epoch 1/20\n",
      "649/649 [==============================] - 10s 15ms/step - loss: 2.0964 - acc: 0.4191\n",
      "Epoch 2/20\n",
      "649/649 [==============================] - 10s 15ms/step - loss: 1.4978 - acc: 0.5516\n",
      "Epoch 3/20\n",
      "649/649 [==============================] - 10s 15ms/step - loss: 0.9041 - acc: 0.7304\n",
      "Epoch 4/20\n",
      "649/649 [==============================] - 10s 15ms/step - loss: 0.6165 - acc: 0.8274\n",
      "Epoch 5/20\n",
      "649/649 [==============================] - 10s 15ms/step - loss: 0.4099 - acc: 0.8829\n",
      "Epoch 6/20\n",
      "649/649 [==============================] - 10s 15ms/step - loss: 0.3222 - acc: 0.9029\n",
      "Epoch 7/20\n",
      "649/649 [==============================] - 10s 15ms/step - loss: 0.1928 - acc: 0.9430\n",
      "Epoch 8/20\n",
      "649/649 [==============================] - 10s 15ms/step - loss: 0.0764 - acc: 0.9707\n",
      "Epoch 9/20\n",
      "649/649 [==============================] - 10s 15ms/step - loss: 0.2491 - acc: 0.9245\n",
      "Epoch 10/20\n",
      "649/649 [==============================] - 10s 15ms/step - loss: 0.1192 - acc: 0.9692\n",
      "Epoch 11/20\n",
      "649/649 [==============================] - 10s 15ms/step - loss: 0.1218 - acc: 0.9815\n",
      "Epoch 12/20\n",
      "649/649 [==============================] - 10s 15ms/step - loss: 0.1317 - acc: 0.9738\n",
      "Epoch 13/20\n",
      "649/649 [==============================] - 12s 18ms/step - loss: 0.0696 - acc: 0.9877\n",
      "Epoch 14/20\n",
      "649/649 [==============================] - 11s 17ms/step - loss: 0.0505 - acc: 0.9892\n",
      "Epoch 15/20\n",
      "649/649 [==============================] - 10s 15ms/step - loss: 0.0372 - acc: 0.9954\n",
      "Epoch 16/20\n",
      "649/649 [==============================] - 11s 17ms/step - loss: 0.0693 - acc: 0.9892\n",
      "Epoch 17/20\n",
      "649/649 [==============================] - 10s 16ms/step - loss: 0.0527 - acc: 0.9938\n",
      "Epoch 18/20\n",
      "649/649 [==============================] - 10s 16ms/step - loss: 0.0395 - acc: 0.9954\n",
      "Epoch 19/20\n",
      "649/649 [==============================] - 10s 16ms/step - loss: 0.0461 - acc: 0.9938\n",
      "Epoch 20/20\n",
      "649/649 [==============================] - 10s 16ms/step - loss: 0.0270 - acc: 0.9985\n"
     ]
    }
   ],
   "source": [
    "classifier.fit(X_train, y_train, epochs=20, batch_size=X_train.shape[0]//20,verbose = 1)\n",
    "#25 epoch ~ 0.99 acc\n",
    "classifier.save_weights('letters_classifier.h5') \n",
    "classifier.load_weights('letters_classifier.h5')"
   ]
  },
  {
   "cell_type": "code",
   "execution_count": 36,
   "metadata": {},
   "outputs": [
    {
     "name": "stdout",
     "output_type": "stream",
     "text": [
      "163/163 [==============================] - 1s 4ms/step\n",
      "[1.1647278630843192, 0.85276073656199169]\n"
     ]
    }
   ],
   "source": [
    "score = classifier.evaluate(X_test, y_test, batch_size = X_test.shape[0]//20)\n",
    "print(score)"
   ]
  },
  {
   "cell_type": "code",
   "execution_count": 58,
   "metadata": {},
   "outputs": [
    {
     "name": "stdout",
     "output_type": "stream",
     "text": [
      "prediction = 9\n",
      "{'1blank': 0, 'a': 1, 'b': 2, 'c': 3, 'd': 4, 'e': 5, 'f': 6, 'g': 7, 'h': 8, 'i': 9, 'j': 10, 'k': 11, 'l': 12, 'm': 13, 'n': 14, 'o': 15, 'p': 16, 'r': 17, 's': 18, 't': 19, 'u': 20, 'w': 21, 'y': 22, 'z': 23, 'ó': 24, 'ą': 25, 'ć': 26, 'ę': 27, 'ł': 28, 'ń': 29, 'ś': 30, 'ź': 31, 'ż': 32}\n"
     ]
    }
   ],
   "source": [
    "from skimage.io import imread\n",
    "from skimage.transform import resize\n",
    "import numpy as np\n",
    "\n",
    "source = imread('letter_validation/006.png')\n",
    "\n",
    "\n",
    "scaled_img = resize(source,(64,64,3),mode='reflect')\n",
    "img = np.expand_dims(scaled_img, axis = 0)\n",
    "prediction = classifier.predict(img)\n",
    "\n",
    "print('prediction = ' + str(np.argmax((prediction))))\n",
    "print(itr.class_indices)"
   ]
  },
  {
   "cell_type": "code",
   "execution_count": null,
   "metadata": {},
   "outputs": [],
   "source": []
  }
 ],
 "metadata": {
  "kernelspec": {
   "display_name": "Python 3",
   "language": "python",
   "name": "python3"
  },
  "language_info": {
   "codemirror_mode": {
    "name": "ipython",
    "version": 3
   },
   "file_extension": ".py",
   "mimetype": "text/x-python",
   "name": "python",
   "nbconvert_exporter": "python",
   "pygments_lexer": "ipython3",
   "version": "3.6.3"
  }
 },
 "nbformat": 4,
 "nbformat_minor": 2
}
