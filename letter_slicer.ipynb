{
 "cells": [
  {
   "cell_type": "code",
   "execution_count": null,
   "metadata": {
    "scrolled": true
   },
   "outputs": [],
   "source": [
    "import cv2\n",
    "import numpy as np\n",
    "import os\n",
    "from matplotlib import pyplot as plt\n",
    "\n",
    "from utils import load_images_from_folder, show_images, BGR_to_RBG \n",
    "from board_detection import get_points, warp_image,get_contour"
   ]
  },
  {
   "cell_type": "code",
   "execution_count": null,
   "metadata": {
    "scrolled": true
   },
   "outputs": [],
   "source": [
    "folder = './testy'\n",
    "images = load_images_from_folder(folder)\n",
    "show_images(BGR_to_RBG(images),10,200,(len(images),1))"
   ]
  },
  {
   "cell_type": "code",
   "execution_count": null,
   "metadata": {
    "scrolled": true
   },
   "outputs": [],
   "source": [
    "output_images = []\n",
    "for img in images:\n",
    "    contour_img,cnt = get_contour(img)\n",
    "    pts, size = get_points(cnt)\n",
    "    warped_img = warp_image(img, pts,size)\n",
    "    output_images.append(warped_img)\n",
    "show_images(BGR_to_RBG(images),10,200,(len(images),1))"
   ]
  },
  {
   "cell_type": "code",
   "execution_count": null,
   "metadata": {},
   "outputs": [],
   "source": [
    "import image_slicer\n",
    "for i in range(len(output_images)):\n",
    "    file = './warped_images/warped'+str(i)+'.jpg'\n",
    "    cv2.imwrite(file,output_images[i])\n",
    "    tiles = image_slicer.slice(file,225,save=False)\n",
    "    image_slicer.save_tiles(tiles, directory='./sliced_letters',prefix='slice'+str(i), format='png')"
   ]
  }
 ],
 "metadata": {
  "kernelspec": {
   "display_name": "Python 3",
   "language": "python",
   "name": "python3"
  },
  "language_info": {
   "codemirror_mode": {
    "name": "ipython",
    "version": 3
   },
   "file_extension": ".py",
   "mimetype": "text/x-python",
   "name": "python",
   "nbconvert_exporter": "python",
   "pygments_lexer": "ipython3",
   "version": "3.6.3"
  }
 },
 "nbformat": 4,
 "nbformat_minor": 2
}
