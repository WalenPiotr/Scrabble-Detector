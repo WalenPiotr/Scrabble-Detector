{
 "cells": [
  {
   "cell_type": "code",
   "execution_count": null,
   "metadata": {
    "scrolled": true
   },
   "outputs": [],
   "source": [
    "import cv2\n",
    "import numpy as np\n",
    "import os\n",
    "from matplotlib import pyplot as plt\n",
    "plt.rcParams.update({'font.size': 4})"
   ]
  },
  {
   "cell_type": "code",
   "execution_count": null,
   "metadata": {},
   "outputs": [],
   "source": [
    "def load_images_from_folder(folder):\n",
    "    images = []\n",
    "    for filename in os.listdir(folder):\n",
    "        img = cv2.imread(os.path.join(folder,filename))\n",
    "        if img is not None:\n",
    "            images.append(img)\n",
    "    return images\n",
    "\n",
    "def show_images(images,figsize,dpi,grid):\n",
    "    number_of_subplots = len(images)\n",
    "    plt.figure(figsize = (figsize,figsize), dpi = dpi)\n",
    "    \n",
    "    for v in range(number_of_subplots):\n",
    "        ax1 = plt.subplot(grid[0],grid[1],v+1)\n",
    "        plt.title('img #' + str(v))\n",
    "        ax1.imshow(images[v],  cmap='gray')\n",
    "    plt.show()\n",
    "    \n",
    "def BGR_to_RGB(images):\n",
    "    RGB_images = []\n",
    "    for image in images:\n",
    "        RGB_images.append(image[...,::-1])\n",
    "    return RGB_images"
   ]
  },
  {
   "cell_type": "code",
   "execution_count": null,
   "metadata": {},
   "outputs": [],
   "source": [
    "def get_contour(img):\n",
    "    grey = cv2.cvtColor(img,cv2.COLOR_BGR2GRAY)\n",
    "    blur = cv2.GaussianBlur(grey,(7,7),0)\n",
    "    edges = cv2.Canny(blur,50,100,apertureSize = 3)\n",
    "    kernel = np.ones((5,5),np.uint8)\n",
    "    dilation = cv2.dilate(edges,kernel,iterations = 2)\n",
    "    contour_img, contours, hierarchy = cv2.findContours(\n",
    "                                            dilation, \n",
    "                                            cv2.RETR_TREE,\n",
    "                                            cv2.CHAIN_APPROX_SIMPLE)\n",
    "    cnt = max(contours, key = cv2.contourArea)\n",
    "    contour_img = img.copy()\n",
    "    contour_img = cv2.drawContours(contour_img, [cnt], 0, (0,255,0), 3)\n",
    "    return contour_img, cnt\n",
    "\n",
    "def get_points(cnt):\n",
    "    epsilon = 0.01*cv2.arcLength(cnt,True)\n",
    "    approx = cv2.approxPolyDP(cnt,epsilon,True)\n",
    "    x_center = np.mean(approx[:,:,0])\n",
    "    y_center = np.mean(approx[:,:,1])\n",
    "\n",
    "    #sorting\n",
    "    pts = np.zeros((4,2))\n",
    "    for x in approx:\n",
    "        for X, Y in x:\n",
    "            if(X<x_center and Y<y_center):\n",
    "                pts[0,0] = X\n",
    "                pts[0,1] = Y\n",
    "            if(X<x_center and Y>y_center):\n",
    "                pts[1,0] = X\n",
    "                pts[1,1] = Y\n",
    "            if(X>x_center and Y>y_center):\n",
    "                pts[2,0] = X\n",
    "                pts[2,1] = Y\n",
    "            if(X>x_center and Y<y_center):\n",
    "                pts[3,0] = X\n",
    "                pts[3,1] = Y\n",
    "    size = max(approx.flatten()) - min(approx.flatten())\n",
    "    return pts, size\n",
    "\n",
    "\n",
    "def warp_image(img, pts, size):\n",
    "    pts = np.float32(pts)\n",
    "    pts_sqr = np.float32([[0,0],[0,size],[size,size],[size,0]])\n",
    "    M = cv2.getPerspectiveTransform(pts,pts_sqr)\n",
    "    warped_img = cv2.warpPerspective(img,M,(size,size))\n",
    "    return warped_img\n"
   ]
  },
  {
   "cell_type": "code",
   "execution_count": null,
   "metadata": {
    "scrolled": false
   },
   "outputs": [],
   "source": [
    "folder = './testy'\n",
    "images = load_images_from_folder(folder)\n",
    "show_images(BGR_to_RGB(images),10,200,(len(images),1))"
   ]
  },
  {
   "cell_type": "code",
   "execution_count": null,
   "metadata": {
    "scrolled": true
   },
   "outputs": [],
   "source": [
    "output_images = []\n",
    "for img in images:\n",
    "    contour_img,cnt = get_contour(img)\n",
    "    pts, size = get_points(cnt)\n",
    "    warped_img = warp_image(img, pts,size)\n",
    "    output_images.append(warped_img)\n",
    "show_images(BGR_to_RGB(images),10,200,(len(images),1))"
   ]
  },
  {
   "cell_type": "code",
   "execution_count": null,
   "metadata": {},
   "outputs": [],
   "source": [
    "import image_slicer\n",
    "for i in range(len(output_images)):\n",
    "    file = './warped_images/warped'+str(i)+'.jpg'\n",
    "    cv2.imwrite(file,output_images[i])\n",
    "    tiles = image_slicer.slice(file,225,save=False)\n",
    "    image_slicer.save_tiles(tiles, directory='./sliced_letters',prefix='slice'+str(i), format='png')"
   ]
  }
 ],
 "metadata": {
  "kernelspec": {
   "display_name": "Python 3",
   "language": "python",
   "name": "python3"
  },
  "language_info": {
   "codemirror_mode": {
    "name": "ipython",
    "version": 3
   },
   "file_extension": ".py",
   "mimetype": "text/x-python",
   "name": "python",
   "nbconvert_exporter": "python",
   "pygments_lexer": "ipython3",
   "version": "3.6.3"
  }
 },
 "nbformat": 4,
 "nbformat_minor": 2
}
