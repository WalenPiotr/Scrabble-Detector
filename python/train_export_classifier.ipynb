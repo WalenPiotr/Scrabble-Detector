{
 "cells": [
  {
   "cell_type": "code",
   "execution_count": 25,
   "metadata": {},
   "outputs": [],
   "source": [
    "from tile_classifier import TileClassifier\n",
    "\n",
    "from keras import backend as K\n",
    "import tensorflow as tf\n",
    "from tensorflow.python.tools import freeze_graph\n",
    "from tensorflow.python.tools import optimize_for_inference_lib\n",
    "\n",
    "def export_model(saver, model, input_node_names, output_node_name, model_name):\n",
    "     \n",
    "    tf.train.write_graph(K.get_session().graph_def, 'out', \\\n",
    "        model_name + '_graph.pbtxt')\n",
    "\n",
    "    saver.save(K.get_session(), 'out/' + model_name + '.chkp')\n",
    "\n",
    "    freeze_graph.freeze_graph('out/' + model_name + '_graph.pbtxt', None, \\\n",
    "        False, 'out/' + model_name + '.chkp', output_node_name, \\\n",
    "        \"save/restore_all\", \"save/Const:0\", \\\n",
    "        'out/frozen_' + model_name + '.pb', True, \"\")\n",
    "\n",
    "    input_graph_def = tf.GraphDef()\n",
    "    with tf.gfile.Open('out/frozen_' + model_name + '.pb', \"rb\") as f:\n",
    "        input_graph_def.ParseFromString(f.read())\n",
    "\n",
    "    output_graph_def = optimize_for_inference_lib.optimize_for_inference(\n",
    "            input_graph_def, input_node_names, [output_node_name],\n",
    "            tf.float32.as_datatype_enum)\n",
    "\n",
    "    with tf.gfile.FastGFile('out/opt_' + model_name + '.pb', \"wb\") as f:\n",
    "        f.write(output_graph_def.SerializeToString())\n",
    "\n",
    "    print(\"graph saved!\")"
   ]
  },
  {
   "cell_type": "code",
   "execution_count": 23,
   "metadata": {},
   "outputs": [
    {
     "name": "stdout",
     "output_type": "stream",
     "text": [
      "Found 1868 images belonging to 2 classes.\n",
      "Epoch 1/5\n",
      "1494/1494 [==============================] - 25s 17ms/step - loss: 0.4925 - acc: 0.7811\n",
      "Epoch 2/5\n",
      "1494/1494 [==============================] - 30s 20ms/step - loss: 0.2167 - acc: 0.9096\n",
      "Epoch 3/5\n",
      "1494/1494 [==============================] - 32s 21ms/step - loss: 0.0802 - acc: 0.9672\n",
      "Epoch 4/5\n",
      "1494/1494 [==============================] - 32s 21ms/step - loss: 0.0317 - acc: 0.9886\n",
      "Epoch 5/5\n",
      "1494/1494 [==============================] - 32s 21ms/step - loss: 0.0147 - acc: 0.9967\n",
      "374/374 [==============================] - 3s 7ms/step\n",
      "[0.0020897649770184237, 1.0]\n",
      "{'non-tiles': 0, 'tiles': 1}\n"
     ]
    }
   ],
   "source": [
    "if __name__ == '__main__':\n",
    "    model_path ='tile_classifier.h5'\n",
    "    data_set_path = './data/data_set_tile'\n",
    "    model = TileClassifier(data_set_path,model_path)\n",
    "    model.train_evaluate(epochs=5)\n",
    "    class_indices = model.get_class_indices()\n",
    "    print(class_indices)\n",
    "    "
   ]
  },
  {
   "cell_type": "code",
   "execution_count": null,
   "metadata": {
    "scrolled": true
   },
   "outputs": [],
   "source": [
    "export_model(tensorflow.train.Saver(), model.classifier, [\"conv2d_1_input\"], \"dense_2/Softmax\", 'tile_classifier')"
   ]
  },
  {
   "cell_type": "code",
   "execution_count": null,
   "metadata": {},
   "outputs": [],
   "source": []
  }
 ],
 "metadata": {
  "kernelspec": {
   "display_name": "Python 3",
   "language": "python",
   "name": "python3"
  },
  "language_info": {
   "codemirror_mode": {
    "name": "ipython",
    "version": 3
   },
   "file_extension": ".py",
   "mimetype": "text/x-python",
   "name": "python",
   "nbconvert_exporter": "python",
   "pygments_lexer": "ipython3",
   "version": "3.6.3"
  }
 },
 "nbformat": 4,
 "nbformat_minor": 2
}
