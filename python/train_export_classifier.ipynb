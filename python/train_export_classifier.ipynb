{
 "cells": [
  {
   "cell_type": "code",
   "execution_count": 4,
   "metadata": {
    "scrolled": true
   },
   "outputs": [],
   "source": [
    "from tile_classifier import TileClassifier\n",
    "from letter_classifier import LetterClassifier\n",
    "\n",
    "from keras import backend as K\n",
    "import tensorflow as tf\n",
    "from tensorflow.python.tools import freeze_graph\n",
    "from tensorflow.python.tools import optimize_for_inference_lib\n",
    "\n",
    "def export_model(saver, model, input_node_names, output_node_name,MODEL_NAME):\n",
    "    tf.train.write_graph(K.get_session().graph_def, 'out', \\\n",
    "        MODEL_NAME + '_graph.pbtxt')\n",
    "\n",
    "    saver.save(K.get_session(), 'out/' + MODEL_NAME + '.chkp')\n",
    "\n",
    "    freeze_graph.freeze_graph('out/' + MODEL_NAME + '_graph.pbtxt', None, \\\n",
    "        False, 'out/' + MODEL_NAME + '.chkp', output_node_name, \\\n",
    "        \"save/restore_all\", \"save/Const:0\", \\\n",
    "        'out/frozen_' + MODEL_NAME + '.pb', True, \"\")\n",
    "\n",
    "    input_graph_def = tf.GraphDef()\n",
    "    with tf.gfile.Open('out/frozen_' + MODEL_NAME + '.pb', \"rb\") as f:\n",
    "        input_graph_def.ParseFromString(f.read())\n",
    "\n",
    "    output_graph_def = optimize_for_inference_lib.optimize_for_inference(\n",
    "            input_graph_def, input_node_names, [output_node_name],\n",
    "            tf.float32.as_datatype_enum)\n",
    "\n",
    "    with tf.gfile.FastGFile('out/opt_' + MODEL_NAME + '.pb', \"wb\") as f:\n",
    "        f.write(output_graph_def.SerializeToString())\n",
    "\n",
    "    print(\"graph saved!\")"
   ]
  },
  {
   "cell_type": "code",
   "execution_count": 7,
   "metadata": {},
   "outputs": [
    {
     "name": "stdout",
     "output_type": "stream",
     "text": [
      "Found 812 images belonging to 33 classes.\n",
      "Epoch 1/25\n",
      "649/649 [==============================] - 11s 17ms/step - loss: 3.3933 - acc: 0.0801\n",
      "Epoch 2/25\n",
      "649/649 [==============================] - 13s 20ms/step - loss: 3.3180 - acc: 0.0724\n",
      "Epoch 3/25\n",
      "649/649 [==============================] - 12s 19ms/step - loss: 3.3032 - acc: 0.0894\n",
      "Epoch 4/25\n",
      "649/649 [==============================] - 12s 19ms/step - loss: 3.2866 - acc: 0.1002\n",
      "Epoch 5/25\n",
      "649/649 [==============================] - 15s 23ms/step - loss: 3.1824 - acc: 0.1464\n",
      "Epoch 6/25\n",
      "649/649 [==============================] - 14s 22ms/step - loss: 2.5481 - acc: 0.3112\n",
      "Epoch 7/25\n",
      "649/649 [==============================] - 15s 23ms/step - loss: 1.5122 - acc: 0.5701\n",
      "Epoch 8/25\n",
      "649/649 [==============================] - 17s 26ms/step - loss: 0.7611 - acc: 0.7920\n",
      "Epoch 9/25\n",
      "649/649 [==============================] - 13s 21ms/step - loss: 0.3990 - acc: 0.8690\n",
      "Epoch 10/25\n",
      "649/649 [==============================] - 12s 18ms/step - loss: 0.2160 - acc: 0.9368\n",
      "Epoch 11/25\n",
      "649/649 [==============================] - 11s 16ms/step - loss: 0.1240 - acc: 0.9599\n",
      "Epoch 12/25\n",
      "649/649 [==============================] - 10s 16ms/step - loss: 0.0932 - acc: 0.9769\n",
      "Epoch 13/25\n",
      "649/649 [==============================] - 11s 17ms/step - loss: 0.0217 - acc: 0.9938\n",
      "Epoch 14/25\n",
      "649/649 [==============================] - 10s 16ms/step - loss: 0.0329 - acc: 0.9954\n",
      "Epoch 15/25\n",
      "649/649 [==============================] - 10s 16ms/step - loss: 0.0257 - acc: 0.9938\n",
      "Epoch 16/25\n",
      "649/649 [==============================] - 10s 16ms/step - loss: 0.0311 - acc: 0.9923\n",
      "Epoch 17/25\n",
      "649/649 [==============================] - 11s 17ms/step - loss: 0.0750 - acc: 0.9815\n",
      "Epoch 18/25\n",
      "649/649 [==============================] - 14s 22ms/step - loss: 0.1197 - acc: 0.9753\n",
      "Epoch 19/25\n",
      "649/649 [==============================] - 12s 19ms/step - loss: 0.0424 - acc: 0.9908\n",
      "Epoch 20/25\n",
      "649/649 [==============================] - 13s 20ms/step - loss: 0.0112 - acc: 0.9954\n",
      "Epoch 21/25\n",
      "649/649 [==============================] - 15s 23ms/step - loss: 0.0052 - acc: 0.9985\n",
      "Epoch 22/25\n",
      "649/649 [==============================] - 11s 17ms/step - loss: 0.0136 - acc: 0.9985\n",
      "Epoch 23/25\n",
      "649/649 [==============================] - 10s 16ms/step - loss: 0.0060 - acc: 0.9985\n",
      "Epoch 24/25\n",
      "649/649 [==============================] - 12s 19ms/step - loss: 0.0062 - acc: 0.9985\n",
      "Epoch 25/25\n",
      "649/649 [==============================] - 14s 22ms/step - loss: 0.0081 - acc: 0.9985\n",
      "163/163 [==============================] - 1s 6ms/step\n",
      "[0.87947875248165397, 0.86503067484662577]\n",
      "{'1blank': 0, 'a': 1, 'b': 2, 'c': 3, 'd': 4, 'e': 5, 'f': 6, 'g': 7, 'h': 8, 'i': 9, 'j': 10, 'k': 11, 'l': 12, 'm': 13, 'n': 14, 'o': 15, 'p': 16, 'r': 17, 's': 18, 't': 19, 'u': 20, 'w': 21, 'y': 22, 'z': 23, 'ó': 24, 'ą': 25, 'ć': 26, 'ę': 27, 'ł': 28, 'ń': 29, 'ś': 30, 'ź': 31, 'ż': 32}\n"
     ]
    }
   ],
   "source": [
    "if __name__ == '__main__':\n",
    "    # model = TileClassifier('./data/data_set_tile','tile_classifier.h5')\n",
    "    model = LetterClassifier('./data/data_set_letter','letter_classifier.h5')\n",
    "    model.train_evaluate(epochs=25)\n",
    "    class_indices = model.get_class_indices()\n",
    "    print(class_indices)\n",
    "    "
   ]
  },
  {
   "cell_type": "code",
   "execution_count": 8,
   "metadata": {
    "scrolled": false
   },
   "outputs": [
    {
     "name": "stdout",
     "output_type": "stream",
     "text": [
      "INFO:tensorflow:Restoring parameters from out/letter_classifier.chkp\n",
      "INFO:tensorflow:Froze 16 variables.\n",
      "Converted 16 variables to const ops.\n",
      "graph saved!\n"
     ]
    }
   ],
   "source": [
    "export_model(tf.train.Saver(), model, [\"conv2d_1_input\"], \"dense_2/Softmax\", \"letter_classifier\")"
   ]
  },
  {
   "cell_type": "code",
   "execution_count": null,
   "metadata": {},
   "outputs": [],
   "source": []
  }
 ],
 "metadata": {
  "kernelspec": {
   "display_name": "Python 3",
   "language": "python",
   "name": "python3"
  },
  "language_info": {
   "codemirror_mode": {
    "name": "ipython",
    "version": 3
   },
   "file_extension": ".py",
   "mimetype": "text/x-python",
   "name": "python",
   "nbconvert_exporter": "python",
   "pygments_lexer": "ipython3",
   "version": "3.6.3"
  }
 },
 "nbformat": 4,
 "nbformat_minor": 2
}
